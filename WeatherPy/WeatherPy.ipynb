{
 "cells": [
  {
   "cell_type": "markdown",
   "metadata": {},
   "source": [
    "# WeatherPy\n",
    "----\n",
    "\n",
    "#### Note\n",
    "* Instructions have been included for each segment. You do not have to follow them exactly, but they are included to help you think through the steps."
   ]
  },
  {
   "cell_type": "code",
   "execution_count": 25,
   "metadata": {
    "scrolled": true
   },
   "outputs": [],
   "source": [
    "# Dependencies and Setup\n",
    "import matplotlib.pyplot as plt\n",
    "import pandas as pd\n",
    "import numpy as np\n",
    "import requests\n",
    "import time\n",
    "from scipy.stats import linregress\n",
    "import os  \n",
    "\n",
    " \n",
    "\n",
    "# Import API key\n",
    "from api_keys import weather_api_key\n",
    "\n",
    "# Incorporated citipy to determine city based on latitude and longitude\n",
    "from citipy import citipy\n",
    "\n",
    "# Output File (CSV)\n",
    "output_data_file = \"output_data/cities.csv\"\n",
    "\n",
    "# Range of latitudes and longitudes\n",
    "lat_range = (-90, 90)\n",
    "lng_range = (-180, 180)"
   ]
  },
  {
   "cell_type": "markdown",
   "metadata": {},
   "source": [
    "## Generate Cities List"
   ]
  },
  {
   "cell_type": "code",
   "execution_count": 2,
   "metadata": {},
   "outputs": [
    {
     "data": {
      "text/plain": [
       "591"
      ]
     },
     "execution_count": 2,
     "metadata": {},
     "output_type": "execute_result"
    }
   ],
   "source": [
    "# List for holding lat_lngs and cities\n",
    "lat_lngs = []\n",
    "cities = []\n",
    "\n",
    "# Create a set of random lat and lng combinations\n",
    "lats = np.random.uniform(lat_range[0], lat_range[1], size=1500)\n",
    "lngs = np.random.uniform(lng_range[0], lng_range[1], size=1500)\n",
    "lat_lngs = zip(lats, lngs)\n",
    "\n",
    "# Identify nearest city for each lat, lng combination\n",
    "for lat_lng in lat_lngs:\n",
    "    city = citipy.nearest_city(lat_lng[0], lat_lng[1]).city_name\n",
    "    \n",
    "    # If the city is unique, then add it to a our cities list\n",
    "    if city not in cities:\n",
    "        cities.append(city)\n",
    "\n",
    "# Print the city count to confirm sufficient count\n",
    "len(cities)\n",
    "#cities[0]"
   ]
  },
  {
   "cell_type": "markdown",
   "metadata": {},
   "source": [
    "### Perform API Calls\n",
    "* Perform a weather check on each city using a series of successive API calls.\n",
    "* Include a print log of each city as it'sbeing processed (with the city number and city name).\n"
   ]
  },
  {
   "cell_type": "code",
   "execution_count": 17,
   "metadata": {
    "scrolled": true
   },
   "outputs": [
    {
     "name": "stdout",
     "output_type": "stream",
     "text": [
      "barrow 1\n",
      "talnakh 2\n",
      "new norfolk 3\n",
      "wanning 4\n",
      "bredasdorp 5\n",
      "illoqqortoormiut 6\n",
      "skipped\n",
      "rikitea 7\n",
      "constitucion 8\n",
      "lebu 9\n",
      "belushya guba 10\n",
      "skipped\n",
      "souillac 11\n",
      "dzaoudzi 12\n",
      "busselton 13\n",
      "emerald 14\n",
      "tiksi 15\n",
      "hermanus 16\n",
      "butaritari 17\n",
      "castro 18\n",
      "mataura 19\n",
      "anderson 20\n",
      "bousse 21\n",
      "jamestown 22\n",
      "fortuna 23\n",
      "tobol 24\n",
      "opuwo 25\n",
      "cockburn town 26\n",
      "aksarka 27\n",
      "praia da vitoria 28\n",
      "kulhudhuffushi 29\n",
      "arnes 30\n",
      "hobart 31\n",
      "keetmanshoop 32\n",
      "kuvandyk 33\n",
      "leningradskiy 34\n",
      "sitka 35\n",
      "tabiauea 36\n",
      "skipped\n",
      "bluff 37\n",
      "nome 38\n",
      "saldanha 39\n",
      "nikolskoye 40\n",
      "sao gabriel da cachoeira 41\n",
      "port-de-paix 42\n",
      "skipped\n",
      "dutlwe 43\n",
      "kilifi 44\n",
      "vaini 45\n",
      "ushuaia 46\n",
      "punta arenas 47\n",
      "beckley 48\n",
      "kapaa 49\n",
      "altay 50\n",
      "alofi 51\n",
      "laguna 52\n",
      "canton 53\n",
      "monrovia 54\n",
      "kongolo 55\n",
      "ponta do sol 56\n",
      "atuona 57\n",
      "barentsburg 58\n",
      "skipped\n",
      "tuktoyaktuk 59\n",
      "coquimbo 60\n",
      "puerto ayora 61\n",
      "port alfred 62\n",
      "revelstoke 63\n",
      "pevek 64\n",
      "astana 65\n",
      "joao pinheiro 66\n",
      "hambantota 67\n",
      "mabaruma 68\n",
      "saint george 69\n",
      "victoria 70\n",
      "lata 71\n",
      "airai 72\n",
      "salalah 73\n",
      "vila velha 74\n",
      "mehamn 75\n",
      "albany 76\n",
      "vadakku valliyur 77\n",
      "yate 78\n",
      "bethel 79\n",
      "celestun 80\n",
      "longyearbyen 81\n",
      "saint-pierre 82\n",
      "kanniyakumari 83\n",
      "carnarvon 84\n",
      "naze 85\n",
      "curaca 86\n",
      "dwarka 87\n",
      "linchuan 88\n",
      "skipped\n",
      "bambous virieux 89\n",
      "dingle 90\n",
      "ostrovnoy 91\n",
      "samoded 92\n",
      "mar del plata 93\n",
      "comodoro rivadavia 94\n",
      "georgetown 95\n",
      "aklavik 96\n",
      "vila franca do campo 97\n",
      "nabire 98\n",
      "hai duong 99\n",
      "kenai 100\n",
      "sibolga 101\n",
      "yatou 102\n",
      "dzilam gonzalez 103\n",
      "the valley 104\n",
      "port elizabeth 105\n",
      "grand gaube 106\n",
      "bengkulu 107\n",
      "amga 108\n",
      "porto walter 109\n",
      "northam 110\n",
      "ribeira grande 111\n",
      "cape town 112\n",
      "katsuura 113\n",
      "ajdabiya 114\n",
      "cabo san lucas 115\n",
      "zyryanka 116\n",
      "hualmay 117\n",
      "santa marta 118\n",
      "mayo 119\n",
      "tasiilaq 120\n",
      "banda aceh 121\n",
      "dikson 122\n",
      "acapulco 123\n",
      "tsihombe 124\n",
      "skipped\n",
      "clyde river 125\n",
      "henties bay 126\n",
      "marsh harbour 127\n",
      "la libertad 128\n",
      "bloomfield 129\n",
      "kampong thum 130\n",
      "codrington 131\n",
      "oum hadjer 132\n",
      "east london 133\n",
      "derzhavinsk 134\n",
      "imisli 135\n",
      "skipped\n",
      "qaanaaq 136\n",
      "amderma 137\n",
      "skipped\n",
      "ayagoz 138\n",
      "amapa 139\n",
      "sergeyevka 140\n",
      "san patricio 141\n",
      "rawson 142\n",
      "am timan 143\n",
      "kodiak 144\n",
      "banepa 145\n",
      "amuntai 146\n",
      "shihezi 147\n",
      "hilo 148\n",
      "hithadhoo 149\n",
      "esperance 150\n",
      "miranorte 151\n",
      "skipped\n",
      "westport 152\n",
      "portland 153\n",
      "faanui 154\n",
      "manggar 155\n",
      "vestmannaeyjar 156\n",
      "bonavista 157\n",
      "sorong 158\n",
      "xining 159\n",
      "antakya 160\n",
      "beringovskiy 161\n",
      "ayan 162\n",
      "arman 163\n",
      "port moresby 164\n",
      "taolanaro 165\n",
      "skipped\n",
      "lefka 166\n",
      "daura 167\n",
      "saint-joseph 168\n",
      "santiago 169\n",
      "klyuchi 170\n",
      "dakar 171\n",
      "nanortalik 172\n",
      "zhangye 173\n",
      "morondava 174\n",
      "adwa 175\n",
      "shache 176\n",
      "provideniya 177\n",
      "north platte 178\n",
      "paamiut 179\n",
      "condoto 180\n",
      "chifeng 181\n",
      "kosa 182\n",
      "la paz 183\n",
      "saint-philippe 184\n",
      "upernavik 185\n",
      "kaitangata 186\n",
      "blythe 187\n",
      "kwinana 188\n",
      "bima 189\n",
      "grand river south east 190\n",
      "skipped\n",
      "mount gambier 191\n",
      "santa vitoria do palmar 192\n",
      "kavieng 193\n",
      "high level 194\n",
      "sao joao da barra 195\n",
      "koumac 196\n",
      "narsaq 197\n",
      "ancud 198\n",
      "qasigiannguit 199\n",
      "aitape 200\n",
      "torbay 201\n",
      "rio gallegos 202\n",
      "rongcheng 203\n",
      "clifton 204\n",
      "ust-maya 205\n",
      "uttarkashi 206\n",
      "husavik 207\n",
      "mergui 208\n",
      "skipped\n",
      "port lincoln 209\n",
      "lavrentiya 210\n",
      "atar 211\n",
      "chokurdakh 212\n",
      "okhotsk 213\n",
      "kieta 214\n",
      "flinders 215\n",
      "moree 216\n",
      "geraldton 217\n",
      "ayorou 218\n",
      "curanilahue 219\n",
      "blonduos 220\n",
      "skipped\n",
      "khatanga 221\n",
      "samalaeulu 222\n",
      "skipped\n",
      "chalmette 223\n",
      "lupiro 224\n",
      "caravelas 225\n",
      "harper 226\n",
      "mazamari 227\n",
      "kahului 228\n",
      "quelimane 229\n",
      "rungata 230\n",
      "skipped\n",
      "chuy 231\n",
      "labuhan 232\n",
      "almaznyy 233\n",
      "costinesti 234\n",
      "inhambane 235\n",
      "mount isa 236\n",
      "orsha 237\n",
      "nizhneyansk 238\n",
      "skipped\n",
      "zhireken 239\n",
      "mahibadhoo 240\n",
      "narrabri 241\n",
      "yar-sale 242\n",
      "oktyabrskoye 243\n",
      "norman wells 244\n",
      "marathopolis 245\n",
      "skipped\n",
      "koping 246\n",
      "gulariya 247\n",
      "oistins 248\n",
      "qaqortoq 249\n",
      "irmo 250\n",
      "eyl 251\n",
      "cidreira 252\n",
      "paravur 253\n",
      "port hawkesbury 254\n",
      "batagay-alyta 255\n",
      "bolungarvik 256\n",
      "skipped\n",
      "ilulissat 257\n",
      "jumla 258\n",
      "twentynine palms 259\n",
      "mahebourg 260\n",
      "rostovka 261\n",
      "itupiranga 262\n",
      "sao filipe 263\n",
      "carnot 264\n",
      "attawapiskat 265\n",
      "skipped\n",
      "negombo 266\n",
      "aykhal 267\n",
      "mys shmidta 268\n",
      "skipped\n",
      "hobyo 269\n",
      "zacatepec 270\n",
      "benguela 271\n",
      "plouzane 272\n",
      "klaksvik 273\n",
      "hwange 274\n",
      "chumikan 275\n",
      "namibe 276\n",
      "nishihara 277\n",
      "marcona 278\n",
      "skipped\n",
      "meulaboh 279\n",
      "lompoc 280\n",
      "raudeberg 281\n",
      "kyabram 282\n",
      "nhulunbuy 283\n",
      "nemuro 284\n",
      "yellowknife 285\n",
      "miri 286\n",
      "okha 287\n",
      "veselynove 288\n",
      "umm lajj 289\n",
      "taltal 290\n",
      "conway 291\n",
      "puerto escondido 292\n",
      "ler 293\n",
      "erzin 294\n",
      "yenagoa 295\n",
      "korla 296\n",
      "jamkhed 297\n",
      "mujiayingzi 298\n",
      "podgornoye 299\n",
      "sur 300\n",
      "pinotepa nacional 301\n",
      "sitamau 302\n",
      "mana 303\n",
      "santa ana 304\n",
      "loyga 305\n",
      "makat 306\n",
      "falealupo 307\n",
      "skipped\n",
      "carbonear 308\n",
      "ruteng 309\n",
      "samusu 310\n",
      "skipped\n",
      "ola 311\n",
      "cap malheureux 312\n",
      "ucluelet 313\n",
      "adrar 314\n",
      "halacho 315\n",
      "kiunga 316\n",
      "zhigansk 317\n",
      "puqi 318\n",
      "manavalakurichi 319\n",
      "necochea 320\n",
      "kaitong 321\n",
      "pirovskoye 322\n",
      "tautira 323\n",
      "iqaluit 324\n",
      "marolambo 325\n",
      "saskylakh 326\n",
      "kinkala 327\n",
      "toamasina 328\n",
      "kirakira 329\n",
      "tupik 330\n",
      "asyut 331\n",
      "owando 332\n",
      "sinnamary 333\n",
      "creel 334\n",
      "chernyshevskiy 335\n",
      "sentyabrskiy 336\n",
      "skipped\n",
      "fort nelson 337\n",
      "haines junction 338\n",
      "sisimiut 339\n",
      "sawtell 340\n",
      "marrakesh 341\n",
      "deputatskiy 342\n",
      "caibarien 343\n",
      "andijon 344\n",
      "sistranda 345\n",
      "buala 346\n",
      "yulara 347\n",
      "bridge city 348\n",
      "becerril 349\n",
      "baia 350\n",
      "hirara 351\n",
      "pacific grove 352\n",
      "nicolas bravo 353\n",
      "davydivka 354\n",
      "chagda 355\n",
      "skipped\n",
      "vaitupu 356\n",
      "skipped\n",
      "pisco 357\n",
      "avarua 358\n",
      "zhuhai 359\n",
      "whitehorse 360\n",
      "jurilovca 361\n",
      "formosa 362\n",
      "mao 363\n",
      "galeana 364\n",
      "mountain home 365\n",
      "severo-kurilsk 366\n",
      "arraial do cabo 367\n",
      "suntar 368\n",
      "kalmunai 369\n",
      "hasaki 370\n",
      "naousa 371\n",
      "walvis bay 372\n",
      "san quintin 373\n",
      "naryan-mar 374\n",
      "kraskino 375\n",
      "thaba-tseka 376\n",
      "la palma 377\n",
      "ahipara 378\n",
      "vardo 379\n",
      "san onofre 380\n",
      "sorvag 381\n",
      "skipped\n",
      "sharjah 382\n",
      "fairlie 383\n",
      "camacupa 384\n",
      "los llanos de aridane 385\n",
      "pekan 386\n",
      "yang talat 387\n",
      "sechura 388\n",
      "ruatoria 389\n",
      "skipped\n",
      "bargal 390\n",
      "skipped\n",
      "hofn 391\n",
      "belaya gora 392\n",
      "thompson 393\n",
      "ryotsu 394\n",
      "tooele 395\n",
      "felipe carrillo puerto 396\n",
      "batemans bay 397\n",
      "makakilo city 398\n",
      "almeirim 399\n",
      "vaitape 400\n",
      "liverpool 401\n",
      "ohara 402\n",
      "fereydun kenar 403\n",
      "high prairie 404\n",
      "sorland 405\n",
      "luderitz 406\n",
      "tuatapere 407\n",
      "birin 408\n",
      "labutta 409\n",
      "skipped\n",
      "hovd 410\n",
      "guayaramerin 411\n",
      "olafsvik 412\n",
      "egvekinot 413\n",
      "kapit 414\n",
      "san cristobal 415\n",
      "tarudant 416\n",
      "skipped\n",
      "parati 417\n",
      "abu samrah 418\n",
      "olavarria 419\n",
      "lorengau 420\n",
      "batagay 421\n",
      "jurm 422\n",
      "bagotville 423\n",
      "srednekolymsk 424\n",
      "yumen 425\n",
      "hervey bay 426\n",
      "north bend 427\n",
      "kutum 428\n",
      "kabare 429\n",
      "dondo 430\n",
      "manali 431\n",
      "margate 432\n",
      "zambezi 433\n",
      "prokudskoye 434\n",
      "seydi 435\n",
      "saryshagan 436\n",
      "skipped\n",
      "kuliyapitiya 437\n",
      "haibowan 438\n",
      "skipped\n",
      "jalu 439\n",
      "kiliya 440\n",
      "sabya 441\n",
      "huarmey 442\n",
      "coihaique 443\n",
      "touros 444\n",
      "oranjemund 445\n",
      "waipawa 446\n",
      "camocim 447\n",
      "eskil 448\n",
      "manta 449\n",
      "aksu 450\n",
      "swan river 451\n",
      "sidi ali 452\n",
      "bitung 453\n",
      "maraba 454\n",
      "khakhea 455\n",
      "abapo 456\n",
      "orebro 457\n",
      "najran 458\n",
      "saravena 459\n",
      "dubuque 460\n",
      "elk 461\n",
      "redmond 462\n",
      "maldonado 463\n",
      "laibin 464\n",
      "namatanai 465\n",
      "saint-georges 466\n",
      "palmer 467\n",
      "asfi 468\n",
      "bathsheba 469\n",
      "ternovskaya 470\n",
      "abdanan 471\n",
      "saleaula 472\n",
      "skipped\n",
      "hammerfest 473\n",
      "fort collins 474\n",
      "yerbogachen 475\n",
      "balakhninskiy 476\n",
      "assiniboia 477\n",
      "mallapuram 478\n",
      "dunedin 479\n",
      "saurimo 480\n",
      "road town 481\n",
      "te anau 482\n",
      "qiongshan 483\n",
      "grindavik 484\n",
      "xingcheng 485\n",
      "sola 486\n",
      "hami 487\n",
      "cherskiy 488\n",
      "buariki 489\n",
      "skipped\n",
      "quatre cocos 490\n",
      "rolim de moura 491\n",
      "skipped\n",
      "louisbourg 492\n",
      "skipped\n",
      "shingu 493\n",
      "riverton 494\n",
      "aguimes 495\n",
      "synya 496\n",
      "fukue 497\n",
      "bilma 498\n",
      "cabra 499\n",
      "san felipe 500\n",
      "elverum 501\n",
      "hamilton 502\n",
      "manzhouli 503\n",
      "gondanglegi 504\n",
      "ngunguru 505\n",
      "zacualpan 506\n",
      "son la 507\n",
      "roros 508\n",
      "ballina 509\n",
      "nantucket 510\n",
      "moussoro 511\n",
      "bacolod 512\n",
      "lazaro cardenas 513\n",
      "krasnoselkup 514\n",
      "miles city 515\n",
      "jand 516\n",
      "muros 517\n",
      "camacha 518\n",
      "ciudad bolivar 519\n",
      "breves 520\n",
      "kismayo 521\n",
      "bad sackingen 522\n",
      "sanda 523\n",
      "spas-demensk 524\n",
      "umm kaddadah 525\n",
      "dali 526\n",
      "nuuk 527\n",
      "warrnambool 528\n",
      "bougouni 529\n",
      "urdzhar 530\n",
      "skipped\n",
      "la roda 531\n",
      "ferrol 532\n",
      "horsham 533\n",
      "port augusta 534\n",
      "zomergem 535\n",
      "puri 536\n",
      "donskoye 537\n",
      "farafangana 538\n",
      "russell 539\n",
      "vangaindrano 540\n",
      "kununurra 541\n",
      "mecca 542\n",
      "ossora 543\n",
      "mumford 544\n",
      "aswan 545\n",
      "yuci 546\n",
      "kamaishi 547\n",
      "jati 548\n",
      "ati 549\n",
      "garden city 550\n",
      "ust-koksa 551\n",
      "katobu 552\n",
      "dibaya 553\n",
      "skipped\n",
      "kirkenes 554\n",
      "bama 555\n",
      "burnie 556\n",
      "ugoofaaru 557\n",
      "jiexiu 558\n",
      "manjakandriana 559\n",
      "tyrma 560\n",
      "rocha 561\n",
      "kautokeino 562\n",
      "saint anthony 563\n",
      "heerhugowaard 564\n",
      "port hedland 565\n",
      "kruisfontein 566\n",
      "zaida 567\n",
      "carballo 568\n",
      "lolua 569\n",
      "skipped\n",
      "fare 570\n",
      "neuquen 571\n",
      "djibo 572\n",
      "vostok 573\n",
      "petrovsk 574\n",
      "murnau 575\n",
      "lola 576\n",
      "clarksburg 577\n",
      "selma 578\n",
      "xuzhou 579\n",
      "somerset 580\n",
      "corpus christi 581\n",
      "palmeira das missoes 582\n",
      "bay roberts 583\n",
      "joetsu 584\n",
      "winnemucca 585\n",
      "billings 586\n",
      "hunza 587\n",
      "skipped\n",
      "waddan 588\n",
      "novyy urengoy 589\n",
      "tres lagoas 590\n",
      "uzhhorod 591\n"
     ]
    }
   ],
   "source": [
    "city_num=[]\n",
    "city_name=[]\n",
    "lats=[]\n",
    "longs=[]\n",
    "temp=[]\n",
    "humidity=[]\n",
    "cloudiness=[]\n",
    "wind_speed=[]\n",
    "\n",
    "city_number = 0\n",
    "for city in cities:\n",
    "    try:\n",
    "        url = \"http://api.openweathermap.org/data/2.5/weather?\"\n",
    "        units = \"imperial\"\n",
    "        query_url = f\"{url}appid={weather_api_key}&q={city}&units={units}\"\n",
    "        weather_response = requests.get(query_url)\n",
    "        weather_json = weather_response.json()\n",
    "        city_number = city_number + 1\n",
    "        print(city, city_number)\n",
    "        lats.append(weather_json[\"coord\"][\"lat\"])\n",
    "        longs.append(weather_json[\"coord\"][\"lon\"])\n",
    "        temp.append(weather_json[\"main\"][\"temp\"])\n",
    "        humidity.append(weather_json[\"main\"][\"humidity\"])\n",
    "        cloudiness.append(weather_json[\"clouds\"][\"all\"])\n",
    "        wind_speed.append(weather_json[\"wind\"][\"speed\"])\n",
    "        city_num.append(city_number)\n",
    "        city_name.append(city)\n",
    "    except:\n",
    "        print(\"skipped\")\n"
   ]
  },
  {
   "cell_type": "markdown",
   "metadata": {},
   "source": [
    "### Convert Raw Data to DataFrame\n",
    "* Export the city data into a .csv.\n",
    "* Display the DataFrame"
   ]
  },
  {
   "cell_type": "code",
   "execution_count": null,
   "metadata": {},
   "outputs": [],
   "source": [
    "# city=\"mys shmidta\"\n",
    "# query_url = f\"{url}appid={weather_api_key}&q={city}&units={units}\"\n",
    "# weather_response = requests.get(query_url)\n",
    "# weather_json = weather_response.json()\n",
    "# weather_json"
   ]
  },
  {
   "cell_type": "code",
   "execution_count": null,
   "metadata": {},
   "outputs": [],
   "source": [
    "# city=\"ilulissat\"\n",
    "# query_url = f\"{url}appid={weather_api_key}&q={city}&units={units}\"\n",
    "# weather_response = requests.get(query_url)\n",
    "# weather_json = weather_response.json()\n",
    "# weather_json"
   ]
  },
  {
   "cell_type": "code",
   "execution_count": 26,
   "metadata": {},
   "outputs": [
    {
     "data": {
      "text/html": [
       "<div>\n",
       "<style scoped>\n",
       "    .dataframe tbody tr th:only-of-type {\n",
       "        vertical-align: middle;\n",
       "    }\n",
       "\n",
       "    .dataframe tbody tr th {\n",
       "        vertical-align: top;\n",
       "    }\n",
       "\n",
       "    .dataframe thead th {\n",
       "        text-align: right;\n",
       "    }\n",
       "</style>\n",
       "<table border=\"1\" class=\"dataframe\">\n",
       "  <thead>\n",
       "    <tr style=\"text-align: right;\">\n",
       "      <th></th>\n",
       "      <th>City ID</th>\n",
       "      <th>City Name</th>\n",
       "      <th>Latitude</th>\n",
       "      <th>Longitude</th>\n",
       "      <th>Temperature(F)</th>\n",
       "      <th>Humidity (%)</th>\n",
       "      <th>Cloudiness</th>\n",
       "      <th>Wind Speed (MPH)</th>\n",
       "    </tr>\n",
       "  </thead>\n",
       "  <tbody>\n",
       "    <tr>\n",
       "      <th>0</th>\n",
       "      <td>1</td>\n",
       "      <td>barrow</td>\n",
       "      <td>71.2906</td>\n",
       "      <td>-156.7887</td>\n",
       "      <td>17.62</td>\n",
       "      <td>73</td>\n",
       "      <td>20</td>\n",
       "      <td>10.36</td>\n",
       "    </tr>\n",
       "    <tr>\n",
       "      <th>1</th>\n",
       "      <td>2</td>\n",
       "      <td>talnakh</td>\n",
       "      <td>69.4865</td>\n",
       "      <td>88.3972</td>\n",
       "      <td>-2.79</td>\n",
       "      <td>99</td>\n",
       "      <td>89</td>\n",
       "      <td>4.94</td>\n",
       "    </tr>\n",
       "    <tr>\n",
       "      <th>2</th>\n",
       "      <td>3</td>\n",
       "      <td>new norfolk</td>\n",
       "      <td>-42.7826</td>\n",
       "      <td>147.0587</td>\n",
       "      <td>52.77</td>\n",
       "      <td>83</td>\n",
       "      <td>84</td>\n",
       "      <td>1.72</td>\n",
       "    </tr>\n",
       "    <tr>\n",
       "      <th>3</th>\n",
       "      <td>4</td>\n",
       "      <td>wanning</td>\n",
       "      <td>18.8003</td>\n",
       "      <td>110.3967</td>\n",
       "      <td>82.00</td>\n",
       "      <td>84</td>\n",
       "      <td>15</td>\n",
       "      <td>12.84</td>\n",
       "    </tr>\n",
       "    <tr>\n",
       "      <th>4</th>\n",
       "      <td>5</td>\n",
       "      <td>bredasdorp</td>\n",
       "      <td>-34.5322</td>\n",
       "      <td>20.0403</td>\n",
       "      <td>56.53</td>\n",
       "      <td>75</td>\n",
       "      <td>73</td>\n",
       "      <td>5.10</td>\n",
       "    </tr>\n",
       "    <tr>\n",
       "      <th>...</th>\n",
       "      <td>...</td>\n",
       "      <td>...</td>\n",
       "      <td>...</td>\n",
       "      <td>...</td>\n",
       "      <td>...</td>\n",
       "      <td>...</td>\n",
       "      <td>...</td>\n",
       "      <td>...</td>\n",
       "    </tr>\n",
       "    <tr>\n",
       "      <th>544</th>\n",
       "      <td>586</td>\n",
       "      <td>billings</td>\n",
       "      <td>45.7833</td>\n",
       "      <td>-108.5007</td>\n",
       "      <td>52.95</td>\n",
       "      <td>36</td>\n",
       "      <td>75</td>\n",
       "      <td>7.00</td>\n",
       "    </tr>\n",
       "    <tr>\n",
       "      <th>545</th>\n",
       "      <td>588</td>\n",
       "      <td>waddan</td>\n",
       "      <td>29.1614</td>\n",
       "      <td>16.1390</td>\n",
       "      <td>65.77</td>\n",
       "      <td>39</td>\n",
       "      <td>25</td>\n",
       "      <td>7.58</td>\n",
       "    </tr>\n",
       "    <tr>\n",
       "      <th>546</th>\n",
       "      <td>589</td>\n",
       "      <td>novyy urengoy</td>\n",
       "      <td>66.0833</td>\n",
       "      <td>76.6333</td>\n",
       "      <td>6.37</td>\n",
       "      <td>97</td>\n",
       "      <td>98</td>\n",
       "      <td>5.32</td>\n",
       "    </tr>\n",
       "    <tr>\n",
       "      <th>547</th>\n",
       "      <td>590</td>\n",
       "      <td>tres lagoas</td>\n",
       "      <td>-20.7511</td>\n",
       "      <td>-51.6783</td>\n",
       "      <td>76.66</td>\n",
       "      <td>53</td>\n",
       "      <td>29</td>\n",
       "      <td>8.10</td>\n",
       "    </tr>\n",
       "    <tr>\n",
       "      <th>548</th>\n",
       "      <td>591</td>\n",
       "      <td>uzhhorod</td>\n",
       "      <td>48.6167</td>\n",
       "      <td>22.3000</td>\n",
       "      <td>48.07</td>\n",
       "      <td>96</td>\n",
       "      <td>86</td>\n",
       "      <td>5.91</td>\n",
       "    </tr>\n",
       "  </tbody>\n",
       "</table>\n",
       "<p>549 rows × 8 columns</p>\n",
       "</div>"
      ],
      "text/plain": [
       "     City ID      City Name  Latitude  Longitude  Temperature(F)  \\\n",
       "0          1         barrow   71.2906  -156.7887           17.62   \n",
       "1          2        talnakh   69.4865    88.3972           -2.79   \n",
       "2          3    new norfolk  -42.7826   147.0587           52.77   \n",
       "3          4        wanning   18.8003   110.3967           82.00   \n",
       "4          5     bredasdorp  -34.5322    20.0403           56.53   \n",
       "..       ...            ...       ...        ...             ...   \n",
       "544      586       billings   45.7833  -108.5007           52.95   \n",
       "545      588         waddan   29.1614    16.1390           65.77   \n",
       "546      589  novyy urengoy   66.0833    76.6333            6.37   \n",
       "547      590    tres lagoas  -20.7511   -51.6783           76.66   \n",
       "548      591       uzhhorod   48.6167    22.3000           48.07   \n",
       "\n",
       "     Humidity (%)  Cloudiness  Wind Speed (MPH)  \n",
       "0              73          20             10.36  \n",
       "1              99          89              4.94  \n",
       "2              83          84              1.72  \n",
       "3              84          15             12.84  \n",
       "4              75          73              5.10  \n",
       "..            ...         ...               ...  \n",
       "544            36          75              7.00  \n",
       "545            39          25              7.58  \n",
       "546            97          98              5.32  \n",
       "547            53          29              8.10  \n",
       "548            96          86              5.91  \n",
       "\n",
       "[549 rows x 8 columns]"
      ]
     },
     "execution_count": 26,
     "metadata": {},
     "output_type": "execute_result"
    }
   ],
   "source": [
    "weather_dict={\"City ID\":city_num,\"City Name\":city_name,\"Latitude\":lats, \"Longitude\":longs, \"Temperature(F)\":temp,\n",
    "                       \"Humidity (%)\":humidity,\"Cloudiness\":cloudiness, \"Wind Speed (MPH)\":wind_speed}\n",
    "# len(city_num)\n",
    "# len(city_name)\n",
    "# len(temp)\n",
    "weather_df=pd.DataFrame(weather_dict)\n",
    "os.makedirs('output', exist_ok=True) \n",
    "weather_df.to_csv('output/cities.csv')\n",
    "weather_df"
   ]
  },
  {
   "cell_type": "code",
   "execution_count": 23,
   "metadata": {},
   "outputs": [
    {
     "data": {
      "text/html": [
       "<div>\n",
       "<style scoped>\n",
       "    .dataframe tbody tr th:only-of-type {\n",
       "        vertical-align: middle;\n",
       "    }\n",
       "\n",
       "    .dataframe tbody tr th {\n",
       "        vertical-align: top;\n",
       "    }\n",
       "\n",
       "    .dataframe thead th {\n",
       "        text-align: right;\n",
       "    }\n",
       "</style>\n",
       "<table border=\"1\" class=\"dataframe\">\n",
       "  <thead>\n",
       "    <tr style=\"text-align: right;\">\n",
       "      <th></th>\n",
       "      <th>City ID</th>\n",
       "      <th>City Name</th>\n",
       "      <th>Latitude</th>\n",
       "      <th>Longitude</th>\n",
       "      <th>Temperature(F)</th>\n",
       "      <th>Humidity (%)</th>\n",
       "      <th>Cloudiness</th>\n",
       "      <th>Wind Speed (MPH)</th>\n",
       "    </tr>\n",
       "  </thead>\n",
       "  <tbody>\n",
       "  </tbody>\n",
       "</table>\n",
       "</div>"
      ],
      "text/plain": [
       "Empty DataFrame\n",
       "Columns: [City ID, City Name, Latitude, Longitude, Temperature(F), Humidity (%), Cloudiness, Wind Speed (MPH)]\n",
       "Index: []"
      ]
     },
     "execution_count": 23,
     "metadata": {},
     "output_type": "execute_result"
    }
   ],
   "source": [
    "humid_cities=weather_df.loc[weather_df[\"Humidity (%)\"]>100]\n",
    "humid_cities\n"
   ]
  },
  {
   "cell_type": "code",
   "execution_count": null,
   "metadata": {},
   "outputs": [],
   "source": []
  },
  {
   "cell_type": "code",
   "execution_count": null,
   "metadata": {},
   "outputs": [],
   "source": []
  },
  {
   "cell_type": "markdown",
   "metadata": {},
   "source": [
    "## Inspect the data and remove the cities where the humidity > 100%.\n",
    "----\n",
    "Skip this step if there are no cities that have humidity > 100%. "
   ]
  },
  {
   "cell_type": "code",
   "execution_count": null,
   "metadata": {},
   "outputs": [],
   "source": []
  },
  {
   "cell_type": "code",
   "execution_count": null,
   "metadata": {},
   "outputs": [],
   "source": [
    "#  Get the indices of cities that have humidity over 100%.\n"
   ]
  },
  {
   "cell_type": "code",
   "execution_count": null,
   "metadata": {},
   "outputs": [],
   "source": [
    "# Make a new DataFrame equal to the city data to drop all humidity outliers by index.\n",
    "# Passing \"inplace=False\" will make a copy of the city_data DataFrame, which we call \"clean_city_data\".\n"
   ]
  },
  {
   "cell_type": "code",
   "execution_count": null,
   "metadata": {},
   "outputs": [],
   "source": [
    "\n"
   ]
  },
  {
   "cell_type": "markdown",
   "metadata": {},
   "source": [
    "## Plotting the Data\n",
    "* Use proper labeling of the plots using plot titles (including date of analysis) and axes labels.\n",
    "* Save the plotted figures as .pngs."
   ]
  },
  {
   "cell_type": "markdown",
   "metadata": {},
   "source": [
    "## Latitude vs. Temperature Plot"
   ]
  },
  {
   "cell_type": "code",
   "execution_count": 75,
   "metadata": {
    "scrolled": true
   },
   "outputs": [
    {
     "data": {
      "image/png": "[encoded data removed]",
      "text/plain": [
       "<Figure size 432x288 with 1 Axes>"
      ]
     },
     "metadata": {
      "needs_background": "light"
     },
     "output_type": "display_data"
    }
   ],
   "source": [
    "x=weather_df[\"Latitude\"]\n",
    "y=weather_df[\"Temperature(F)\"]\n",
    "# plt.scatter(x,y)\n",
    "# plt.title=\"Latitude vs. Temperature\"\n",
    "# plt.xlabel=\"Latitude\"\n",
    "# plt.ylabel=\"Temperature(F)\"\n",
    "# plt.show()\n",
    "fig1=weather_df.plot.scatter(x=\"Latitude\",y=\"Temperature(F)\",title=\"Latitude vs. Temperature(4/24/2022)\")\n",
    "plt.savefig('output/fig1.png', dpi=300)\n"
   ]
  },
  {
   "cell_type": "code",
   "execution_count": 76,
   "metadata": {},
   "outputs": [
    {
     "name": "stdout",
     "output_type": "stream",
     "text": [
      "This plot shows decreasing temperature as cities get farther from the equator\n"
     ]
    }
   ],
   "source": [
    "print(\"This plot shows decreasing temperature as cities get farther from the equator\")"
   ]
  },
  {
   "cell_type": "markdown",
   "metadata": {},
   "source": [
    "## Latitude vs. Humidity Plot"
   ]
  },
  {
   "cell_type": "code",
   "execution_count": 77,
   "metadata": {},
   "outputs": [
    {
     "data": {
      "image/png": "[encoded data removed]",
      "text/plain": [
       "<Figure size 432x288 with 1 Axes>"
      ]
     },
     "metadata": {
      "needs_background": "light"
     },
     "output_type": "display_data"
    }
   ],
   "source": [
    "fig2=weather_df.plot.scatter(x=\"Latitude\",y=\"Humidity (%)\",title=\"Latitude vs. Humidity(4/24/2022)\")\n",
    "plt.savefig('output/fig2.png', dpi=300)"
   ]
  },
  {
   "cell_type": "code",
   "execution_count": 78,
   "metadata": {},
   "outputs": [
    {
     "name": "stdout",
     "output_type": "stream",
     "text": [
      "This plot shows humidity levels as cities get farther from the equator, with the driest cities being just north of the equator\n"
     ]
    }
   ],
   "source": [
    "print(\"This plot shows humidity levels as cities get farther from the equator, with the driest cities being just north of the equator\")"
   ]
  },
  {
   "cell_type": "markdown",
   "metadata": {},
   "source": [
    "## Latitude vs. Cloudiness Plot"
   ]
  },
  {
   "cell_type": "code",
   "execution_count": 79,
   "metadata": {},
   "outputs": [
    {
     "data": {
      "image/png": "[encoded data removed]",
      "text/plain": [
       "<Figure size 432x288 with 1 Axes>"
      ]
     },
     "metadata": {
      "needs_background": "light"
     },
     "output_type": "display_data"
    }
   ],
   "source": [
    "fig3=weather_df.plot.scatter(x=\"Latitude\",y=\"Cloudiness\",title=\"Latitude vs. Cloudiness(4/24/2022)\")\n",
    "plt.savefig('output/fig3.png', dpi=300)"
   ]
  },
  {
   "cell_type": "code",
   "execution_count": 80,
   "metadata": {},
   "outputs": [
    {
     "name": "stdout",
     "output_type": "stream",
     "text": [
      "This plot shows cloudiness as cities get farther from the equator\n"
     ]
    }
   ],
   "source": [
    "print(\"This plot shows cloudiness as cities get farther from the equator\")"
   ]
  },
  {
   "cell_type": "markdown",
   "metadata": {},
   "source": [
    "## Latitude vs. Wind Speed Plot"
   ]
  },
  {
   "cell_type": "code",
   "execution_count": 81,
   "metadata": {},
   "outputs": [
    {
     "data": {
      "image/png": "[encoded data removed]",
      "text/plain": [
       "<Figure size 432x288 with 1 Axes>"
      ]
     },
     "metadata": {
      "needs_background": "light"
     },
     "output_type": "display_data"
    }
   ],
   "source": [
    "fig4=weather_df.plot.scatter(x=\"Latitude\",y=\"Wind Speed (MPH)\",title=\"Latitude vs. Wind Speed (MPH)(4/24/2022)\")\n",
    "plt.savefig('output/fig4.png', dpi=300)"
   ]
  },
  {
   "cell_type": "code",
   "execution_count": 82,
   "metadata": {},
   "outputs": [
    {
     "name": "stdout",
     "output_type": "stream",
     "text": [
      "This plot shows wind speed as cities get farther from the equator\n"
     ]
    }
   ],
   "source": [
    "print(\"This plot shows wind speed as cities get farther from the equator\")"
   ]
  },
  {
   "cell_type": "markdown",
   "metadata": {},
   "source": [
    "## Linear Regression"
   ]
  },
  {
   "cell_type": "code",
   "execution_count": 83,
   "metadata": {},
   "outputs": [
    {
     "data": {
      "text/html": [
       "<div>\n",
       "<style scoped>\n",
       "    .dataframe tbody tr th:only-of-type {\n",
       "        vertical-align: middle;\n",
       "    }\n",
       "\n",
       "    .dataframe tbody tr th {\n",
       "        vertical-align: top;\n",
       "    }\n",
       "\n",
       "    .dataframe thead th {\n",
       "        text-align: right;\n",
       "    }\n",
       "</style>\n",
       "<table border=\"1\" class=\"dataframe\">\n",
       "  <thead>\n",
       "    <tr style=\"text-align: right;\">\n",
       "      <th></th>\n",
       "      <th>City ID</th>\n",
       "      <th>City Name</th>\n",
       "      <th>Latitude</th>\n",
       "      <th>Longitude</th>\n",
       "      <th>Temperature(F)</th>\n",
       "      <th>Humidity (%)</th>\n",
       "      <th>Cloudiness</th>\n",
       "      <th>Wind Speed (MPH)</th>\n",
       "    </tr>\n",
       "  </thead>\n",
       "  <tbody>\n",
       "    <tr>\n",
       "      <th>0</th>\n",
       "      <td>1</td>\n",
       "      <td>barrow</td>\n",
       "      <td>71.2906</td>\n",
       "      <td>-156.7887</td>\n",
       "      <td>17.62</td>\n",
       "      <td>73</td>\n",
       "      <td>20</td>\n",
       "      <td>10.36</td>\n",
       "    </tr>\n",
       "    <tr>\n",
       "      <th>1</th>\n",
       "      <td>2</td>\n",
       "      <td>talnakh</td>\n",
       "      <td>69.4865</td>\n",
       "      <td>88.3972</td>\n",
       "      <td>-2.79</td>\n",
       "      <td>99</td>\n",
       "      <td>89</td>\n",
       "      <td>4.94</td>\n",
       "    </tr>\n",
       "    <tr>\n",
       "      <th>3</th>\n",
       "      <td>4</td>\n",
       "      <td>wanning</td>\n",
       "      <td>18.8003</td>\n",
       "      <td>110.3967</td>\n",
       "      <td>82.00</td>\n",
       "      <td>84</td>\n",
       "      <td>15</td>\n",
       "      <td>12.84</td>\n",
       "    </tr>\n",
       "    <tr>\n",
       "      <th>12</th>\n",
       "      <td>15</td>\n",
       "      <td>tiksi</td>\n",
       "      <td>71.6872</td>\n",
       "      <td>128.8694</td>\n",
       "      <td>4.12</td>\n",
       "      <td>96</td>\n",
       "      <td>98</td>\n",
       "      <td>2.42</td>\n",
       "    </tr>\n",
       "    <tr>\n",
       "      <th>14</th>\n",
       "      <td>17</td>\n",
       "      <td>butaritari</td>\n",
       "      <td>3.0707</td>\n",
       "      <td>172.7902</td>\n",
       "      <td>81.30</td>\n",
       "      <td>77</td>\n",
       "      <td>97</td>\n",
       "      <td>9.98</td>\n",
       "    </tr>\n",
       "    <tr>\n",
       "      <th>...</th>\n",
       "      <td>...</td>\n",
       "      <td>...</td>\n",
       "      <td>...</td>\n",
       "      <td>...</td>\n",
       "      <td>...</td>\n",
       "      <td>...</td>\n",
       "      <td>...</td>\n",
       "      <td>...</td>\n",
       "    </tr>\n",
       "    <tr>\n",
       "      <th>543</th>\n",
       "      <td>585</td>\n",
       "      <td>winnemucca</td>\n",
       "      <td>40.9730</td>\n",
       "      <td>-117.7357</td>\n",
       "      <td>62.65</td>\n",
       "      <td>16</td>\n",
       "      <td>0</td>\n",
       "      <td>3.44</td>\n",
       "    </tr>\n",
       "    <tr>\n",
       "      <th>544</th>\n",
       "      <td>586</td>\n",
       "      <td>billings</td>\n",
       "      <td>45.7833</td>\n",
       "      <td>-108.5007</td>\n",
       "      <td>52.95</td>\n",
       "      <td>36</td>\n",
       "      <td>75</td>\n",
       "      <td>7.00</td>\n",
       "    </tr>\n",
       "    <tr>\n",
       "      <th>545</th>\n",
       "      <td>588</td>\n",
       "      <td>waddan</td>\n",
       "      <td>29.1614</td>\n",
       "      <td>16.1390</td>\n",
       "      <td>65.77</td>\n",
       "      <td>39</td>\n",
       "      <td>25</td>\n",
       "      <td>7.58</td>\n",
       "    </tr>\n",
       "    <tr>\n",
       "      <th>546</th>\n",
       "      <td>589</td>\n",
       "      <td>novyy urengoy</td>\n",
       "      <td>66.0833</td>\n",
       "      <td>76.6333</td>\n",
       "      <td>6.37</td>\n",
       "      <td>97</td>\n",
       "      <td>98</td>\n",
       "      <td>5.32</td>\n",
       "    </tr>\n",
       "    <tr>\n",
       "      <th>548</th>\n",
       "      <td>591</td>\n",
       "      <td>uzhhorod</td>\n",
       "      <td>48.6167</td>\n",
       "      <td>22.3000</td>\n",
       "      <td>48.07</td>\n",
       "      <td>96</td>\n",
       "      <td>86</td>\n",
       "      <td>5.91</td>\n",
       "    </tr>\n",
       "  </tbody>\n",
       "</table>\n",
       "<p>379 rows × 8 columns</p>\n",
       "</div>"
      ],
      "text/plain": [
       "     City ID      City Name  Latitude  Longitude  Temperature(F)  \\\n",
       "0          1         barrow   71.2906  -156.7887           17.62   \n",
       "1          2        talnakh   69.4865    88.3972           -2.79   \n",
       "3          4        wanning   18.8003   110.3967           82.00   \n",
       "12        15          tiksi   71.6872   128.8694            4.12   \n",
       "14        17     butaritari    3.0707   172.7902           81.30   \n",
       "..       ...            ...       ...        ...             ...   \n",
       "543      585     winnemucca   40.9730  -117.7357           62.65   \n",
       "544      586       billings   45.7833  -108.5007           52.95   \n",
       "545      588         waddan   29.1614    16.1390           65.77   \n",
       "546      589  novyy urengoy   66.0833    76.6333            6.37   \n",
       "548      591       uzhhorod   48.6167    22.3000           48.07   \n",
       "\n",
       "     Humidity (%)  Cloudiness  Wind Speed (MPH)  \n",
       "0              73          20             10.36  \n",
       "1              99          89              4.94  \n",
       "3              84          15             12.84  \n",
       "12             96          98              2.42  \n",
       "14             77          97              9.98  \n",
       "..            ...         ...               ...  \n",
       "543            16           0              3.44  \n",
       "544            36          75              7.00  \n",
       "545            39          25              7.58  \n",
       "546            97          98              5.32  \n",
       "548            96          86              5.91  \n",
       "\n",
       "[379 rows x 8 columns]"
      ]
     },
     "execution_count": 83,
     "metadata": {},
     "output_type": "execute_result"
    }
   ],
   "source": [
    "NHemi=weather_df.loc[weather_df[\"Latitude\"]>0]\n",
    "NHemi"
   ]
  },
  {
   "cell_type": "code",
   "execution_count": 84,
   "metadata": {},
   "outputs": [
    {
     "data": {
      "text/html": [
       "<div>\n",
       "<style scoped>\n",
       "    .dataframe tbody tr th:only-of-type {\n",
       "        vertical-align: middle;\n",
       "    }\n",
       "\n",
       "    .dataframe tbody tr th {\n",
       "        vertical-align: top;\n",
       "    }\n",
       "\n",
       "    .dataframe thead th {\n",
       "        text-align: right;\n",
       "    }\n",
       "</style>\n",
       "<table border=\"1\" class=\"dataframe\">\n",
       "  <thead>\n",
       "    <tr style=\"text-align: right;\">\n",
       "      <th></th>\n",
       "      <th>City ID</th>\n",
       "      <th>City Name</th>\n",
       "      <th>Latitude</th>\n",
       "      <th>Longitude</th>\n",
       "      <th>Temperature(F)</th>\n",
       "      <th>Humidity (%)</th>\n",
       "      <th>Cloudiness</th>\n",
       "      <th>Wind Speed (MPH)</th>\n",
       "    </tr>\n",
       "  </thead>\n",
       "  <tbody>\n",
       "    <tr>\n",
       "      <th>2</th>\n",
       "      <td>3</td>\n",
       "      <td>new norfolk</td>\n",
       "      <td>-42.7826</td>\n",
       "      <td>147.0587</td>\n",
       "      <td>52.77</td>\n",
       "      <td>83</td>\n",
       "      <td>84</td>\n",
       "      <td>1.72</td>\n",
       "    </tr>\n",
       "    <tr>\n",
       "      <th>4</th>\n",
       "      <td>5</td>\n",
       "      <td>bredasdorp</td>\n",
       "      <td>-34.5322</td>\n",
       "      <td>20.0403</td>\n",
       "      <td>56.53</td>\n",
       "      <td>75</td>\n",
       "      <td>73</td>\n",
       "      <td>5.10</td>\n",
       "    </tr>\n",
       "    <tr>\n",
       "      <th>5</th>\n",
       "      <td>7</td>\n",
       "      <td>rikitea</td>\n",
       "      <td>-23.1203</td>\n",
       "      <td>-134.9692</td>\n",
       "      <td>72.97</td>\n",
       "      <td>89</td>\n",
       "      <td>100</td>\n",
       "      <td>16.73</td>\n",
       "    </tr>\n",
       "    <tr>\n",
       "      <th>6</th>\n",
       "      <td>8</td>\n",
       "      <td>constitucion</td>\n",
       "      <td>-35.3333</td>\n",
       "      <td>-72.4167</td>\n",
       "      <td>53.55</td>\n",
       "      <td>90</td>\n",
       "      <td>97</td>\n",
       "      <td>5.91</td>\n",
       "    </tr>\n",
       "    <tr>\n",
       "      <th>7</th>\n",
       "      <td>9</td>\n",
       "      <td>lebu</td>\n",
       "      <td>-37.6167</td>\n",
       "      <td>-73.6500</td>\n",
       "      <td>51.69</td>\n",
       "      <td>77</td>\n",
       "      <td>36</td>\n",
       "      <td>7.92</td>\n",
       "    </tr>\n",
       "    <tr>\n",
       "      <th>...</th>\n",
       "      <td>...</td>\n",
       "      <td>...</td>\n",
       "      <td>...</td>\n",
       "      <td>...</td>\n",
       "      <td>...</td>\n",
       "      <td>...</td>\n",
       "      <td>...</td>\n",
       "      <td>...</td>\n",
       "    </tr>\n",
       "    <tr>\n",
       "      <th>525</th>\n",
       "      <td>566</td>\n",
       "      <td>kruisfontein</td>\n",
       "      <td>-34.0033</td>\n",
       "      <td>24.7314</td>\n",
       "      <td>53.89</td>\n",
       "      <td>78</td>\n",
       "      <td>100</td>\n",
       "      <td>5.32</td>\n",
       "    </tr>\n",
       "    <tr>\n",
       "      <th>528</th>\n",
       "      <td>570</td>\n",
       "      <td>fare</td>\n",
       "      <td>-16.7000</td>\n",
       "      <td>-151.0167</td>\n",
       "      <td>81.39</td>\n",
       "      <td>70</td>\n",
       "      <td>46</td>\n",
       "      <td>5.68</td>\n",
       "    </tr>\n",
       "    <tr>\n",
       "      <th>529</th>\n",
       "      <td>571</td>\n",
       "      <td>neuquen</td>\n",
       "      <td>-38.9516</td>\n",
       "      <td>-68.0591</td>\n",
       "      <td>57.09</td>\n",
       "      <td>44</td>\n",
       "      <td>0</td>\n",
       "      <td>23.02</td>\n",
       "    </tr>\n",
       "    <tr>\n",
       "      <th>540</th>\n",
       "      <td>582</td>\n",
       "      <td>palmeira das missoes</td>\n",
       "      <td>-27.8994</td>\n",
       "      <td>-53.3136</td>\n",
       "      <td>66.43</td>\n",
       "      <td>91</td>\n",
       "      <td>1</td>\n",
       "      <td>7.18</td>\n",
       "    </tr>\n",
       "    <tr>\n",
       "      <th>547</th>\n",
       "      <td>590</td>\n",
       "      <td>tres lagoas</td>\n",
       "      <td>-20.7511</td>\n",
       "      <td>-51.6783</td>\n",
       "      <td>76.66</td>\n",
       "      <td>53</td>\n",
       "      <td>29</td>\n",
       "      <td>8.10</td>\n",
       "    </tr>\n",
       "  </tbody>\n",
       "</table>\n",
       "<p>170 rows × 8 columns</p>\n",
       "</div>"
      ],
      "text/plain": [
       "     City ID             City Name  Latitude  Longitude  Temperature(F)  \\\n",
       "2          3           new norfolk  -42.7826   147.0587           52.77   \n",
       "4          5            bredasdorp  -34.5322    20.0403           56.53   \n",
       "5          7               rikitea  -23.1203  -134.9692           72.97   \n",
       "6          8          constitucion  -35.3333   -72.4167           53.55   \n",
       "7          9                  lebu  -37.6167   -73.6500           51.69   \n",
       "..       ...                   ...       ...        ...             ...   \n",
       "525      566          kruisfontein  -34.0033    24.7314           53.89   \n",
       "528      570                  fare  -16.7000  -151.0167           81.39   \n",
       "529      571               neuquen  -38.9516   -68.0591           57.09   \n",
       "540      582  palmeira das missoes  -27.8994   -53.3136           66.43   \n",
       "547      590           tres lagoas  -20.7511   -51.6783           76.66   \n",
       "\n",
       "     Humidity (%)  Cloudiness  Wind Speed (MPH)  \n",
       "2              83          84              1.72  \n",
       "4              75          73              5.10  \n",
       "5              89         100             16.73  \n",
       "6              90          97              5.91  \n",
       "7              77          36              7.92  \n",
       "..            ...         ...               ...  \n",
       "525            78         100              5.32  \n",
       "528            70          46              5.68  \n",
       "529            44           0             23.02  \n",
       "540            91           1              7.18  \n",
       "547            53          29              8.10  \n",
       "\n",
       "[170 rows x 8 columns]"
      ]
     },
     "execution_count": 84,
     "metadata": {},
     "output_type": "execute_result"
    }
   ],
   "source": [
    "SHemi=weather_df.loc[weather_df[\"Latitude\"]<0]\n",
    "SHemi"
   ]
  },
  {
   "cell_type": "markdown",
   "metadata": {},
   "source": [
    "####  Northern Hemisphere - Max Temp vs. Latitude Linear Regression"
   ]
  },
  {
   "cell_type": "code",
   "execution_count": 85,
   "metadata": {},
   "outputs": [
    {
     "data": {
      "image/png": "[encoded data removed]",
      "text/plain": [
       "<Figure size 432x288 with 1 Axes>"
      ]
     },
     "metadata": {
      "needs_background": "light"
     },
     "output_type": "display_data"
    }
   ],
   "source": [
    "x=NHemi[\"Latitude\"]\n",
    "y=NHemi[\"Temperature(F)\"]\n",
    "\n",
    "fig5=NHemi.plot.scatter(x=\"Latitude\",y=\"Temperature(F)\",title=\"Latitude vs. Temperature(Northern Hemisphere)(4/24/2022)\")\n",
    "\n",
    "(slope, intercept, rvalue, pvalue, stderr) = linregress(x, y)\n",
    "regress_values = x * slope + intercept\n",
    "line_eq = \"y = \" + str(round(slope,2)) + \"x + \" + str(round(intercept,2))\n",
    "plt.plot(x,regress_values,\"r-\")\n",
    "plt.annotate(line_eq,(0,7.5),fontsize=15,color=\"red\")\n",
    "plt.savefig('output/fig5.png', dpi=300)"
   ]
  },
  {
   "cell_type": "code",
   "execution_count": 86,
   "metadata": {},
   "outputs": [
    {
     "name": "stdout",
     "output_type": "stream",
     "text": [
      "This shows a decreasing temperature the farther from the Equator the city is\n"
     ]
    }
   ],
   "source": [
    "print(\"This shows a decreasing temperature the farther from the Equator the city is\")"
   ]
  },
  {
   "cell_type": "markdown",
   "metadata": {},
   "source": [
    "####  Southern Hemisphere - Max Temp vs. Latitude Linear Regression"
   ]
  },
  {
   "cell_type": "code",
   "execution_count": 87,
   "metadata": {},
   "outputs": [
    {
     "data": {
      "image/png": "[encoded data removed]",
      "text/plain": [
       "<Figure size 432x288 with 1 Axes>"
      ]
     },
     "metadata": {
      "needs_background": "light"
     },
     "output_type": "display_data"
    }
   ],
   "source": [
    "x=SHemi[\"Latitude\"]\n",
    "y=SHemi[\"Temperature(F)\"]\n",
    "\n",
    "fig6=SHemi.plot.scatter(x=\"Latitude\",y=\"Temperature(F)\",title=\"Latitude vs. Temperature(Southern Hemisphere)(4/24/2022)\")\n",
    "\n",
    "(slope, intercept, rvalue, pvalue, stderr) = linregress(x, y)\n",
    "regress_values = x * slope + intercept\n",
    "line_eq = \"y = \" + str(round(slope,2)) + \"x + \" + str(round(intercept,2))\n",
    "plt.plot(x,regress_values,\"r-\")\n",
    "plt.annotate(line_eq,(0,7.5),fontsize=15,color=\"red\")\n",
    "plt.savefig('output/fig6.png', dpi=300)"
   ]
  },
  {
   "cell_type": "code",
   "execution_count": 88,
   "metadata": {},
   "outputs": [
    {
     "name": "stdout",
     "output_type": "stream",
     "text": [
      "This shows a decreasing temperature the farther from the Equator the city is\n"
     ]
    }
   ],
   "source": [
    "print(\"This shows a decreasing temperature the farther from the Equator the city is\")"
   ]
  },
  {
   "cell_type": "markdown",
   "metadata": {},
   "source": [
    "####  Northern Hemisphere - Humidity (%) vs. Latitude Linear Regression"
   ]
  },
  {
   "cell_type": "code",
   "execution_count": 89,
   "metadata": {},
   "outputs": [
    {
     "data": {
      "image/png": "[encoded data removed]",
      "text/plain": [
       "<Figure size 432x288 with 1 Axes>"
      ]
     },
     "metadata": {
      "needs_background": "light"
     },
     "output_type": "display_data"
    }
   ],
   "source": [
    "x=NHemi[\"Latitude\"]\n",
    "y=NHemi[\"Humidity (%)\"]\n",
    "\n",
    "fig7=NHemi.plot.scatter(x=\"Latitude\",y=\"Humidity (%)\",title=\"Latitude vs. Humidity (%)(Northern Hemisphere)(4/24/2022)\")\n",
    "\n",
    "(slope, intercept, rvalue, pvalue, stderr) = linregress(x, y)\n",
    "regress_values = x * slope + intercept\n",
    "line_eq = \"y = \" + str(round(slope,2)) + \"x + \" + str(round(intercept,2))\n",
    "plt.plot(x,regress_values,\"r-\")\n",
    "plt.annotate(line_eq,(0,7.5),fontsize=15,color=\"red\")\n",
    "plt.savefig('output/fig7.png', dpi=300)"
   ]
  },
  {
   "cell_type": "code",
   "execution_count": 90,
   "metadata": {},
   "outputs": [
    {
     "name": "stdout",
     "output_type": "stream",
     "text": [
      "This shows very little correlation between latitude and humidity\n"
     ]
    }
   ],
   "source": [
    "print(\"This shows very little correlation between latitude and humidity\")"
   ]
  },
  {
   "cell_type": "markdown",
   "metadata": {},
   "source": [
    "####  Southern Hemisphere - Humidity (%) vs. Latitude Linear Regression"
   ]
  },
  {
   "cell_type": "code",
   "execution_count": 91,
   "metadata": {},
   "outputs": [
    {
     "data": {
      "image/png": "[encoded data removed]",
      "text/plain": [
       "<Figure size 432x288 with 1 Axes>"
      ]
     },
     "metadata": {
      "needs_background": "light"
     },
     "output_type": "display_data"
    }
   ],
   "source": [
    "x=SHemi[\"Latitude\"]\n",
    "y=SHemi[\"Humidity (%)\"]\n",
    "\n",
    "fig8=SHemi.plot.scatter(x=\"Latitude\",y=\"Humidity (%)\",title=\"Latitude vs. Humidity (%)(Southern Hemisphere)(4/24/2022)\")\n",
    "\n",
    "(slope, intercept, rvalue, pvalue, stderr) = linregress(x, y)\n",
    "regress_values = x * slope + intercept\n",
    "line_eq = \"y = \" + str(round(slope,2)) + \"x + \" + str(round(intercept,2))\n",
    "plt.plot(x,regress_values,\"r-\")\n",
    "plt.annotate(line_eq,(0,7.5),fontsize=15,color=\"red\")\n",
    "plt.savefig('output/fig8.png', dpi=300)"
   ]
  },
  {
   "cell_type": "code",
   "execution_count": 92,
   "metadata": {},
   "outputs": [
    {
     "name": "stdout",
     "output_type": "stream",
     "text": [
      "This shows very little correlation between latitude and humidity\n"
     ]
    }
   ],
   "source": [
    "print(\"This shows very little correlation between latitude and humidity\")"
   ]
  },
  {
   "cell_type": "markdown",
   "metadata": {},
   "source": [
    "####  Northern Hemisphere - Cloudiness (%) vs. Latitude Linear Regression"
   ]
  },
  {
   "cell_type": "code",
   "execution_count": 93,
   "metadata": {},
   "outputs": [
    {
     "data": {
      "image/png": "[encoded data removed]",
      "text/plain": [
       "<Figure size 432x288 with 1 Axes>"
      ]
     },
     "metadata": {
      "needs_background": "light"
     },
     "output_type": "display_data"
    }
   ],
   "source": [
    "x=NHemi[\"Latitude\"]\n",
    "y=NHemi[\"Cloudiness\"]\n",
    "\n",
    "fig9=NHemi.plot.scatter(x=\"Latitude\",y=\"Cloudiness\",title=\"Latitude vs. Cloudiness(Nothern Hemisphere)(4/24/2022)\")\n",
    "\n",
    "(slope, intercept, rvalue, pvalue, stderr) = linregress(x, y)\n",
    "regress_values = x * slope + intercept\n",
    "line_eq = \"y = \" + str(round(slope,2)) + \"x + \" + str(round(intercept,2))\n",
    "plt.plot(x,regress_values,\"r-\")\n",
    "plt.annotate(line_eq,(0,7.5),fontsize=15,color=\"red\")\n",
    "plt.savefig('output/fig9.png', dpi=300)"
   ]
  },
  {
   "cell_type": "code",
   "execution_count": 94,
   "metadata": {},
   "outputs": [
    {
     "name": "stdout",
     "output_type": "stream",
     "text": [
      "This shows a small correlation between latitude and cloudiness\n"
     ]
    }
   ],
   "source": [
    "print(\"This shows a small correlation between latitude and cloudiness\")"
   ]
  },
  {
   "cell_type": "markdown",
   "metadata": {},
   "source": [
    "####  Southern Hemisphere - Cloudiness (%) vs. Latitude Linear Regression"
   ]
  },
  {
   "cell_type": "code",
   "execution_count": 95,
   "metadata": {},
   "outputs": [
    {
     "data": {
      "image/png": "[encoded data removed]",
      "text/plain": [
       "<Figure size 432x288 with 1 Axes>"
      ]
     },
     "metadata": {
      "needs_background": "light"
     },
     "output_type": "display_data"
    }
   ],
   "source": [
    "x=SHemi[\"Latitude\"]\n",
    "y=SHemi[\"Cloudiness\"]\n",
    "\n",
    "fig10=SHemi.plot.scatter(x=\"Latitude\",y=\"Cloudiness\",title=\"Latitude vs. Cloudiness(Southern Hemisphere)(4/24/2022)\")\n",
    "\n",
    "(slope, intercept, rvalue, pvalue, stderr) = linregress(x, y)\n",
    "regress_values = x * slope + intercept\n",
    "line_eq = \"y = \" + str(round(slope,2)) + \"x + \" + str(round(intercept,2))\n",
    "plt.plot(x,regress_values,\"r-\")\n",
    "plt.annotate(line_eq,(-55,8),fontsize=15,color=\"red\")\n",
    "plt.savefig('output/fig10.png', dpi=300)"
   ]
  },
  {
   "cell_type": "code",
   "execution_count": 96,
   "metadata": {},
   "outputs": [
    {
     "name": "stdout",
     "output_type": "stream",
     "text": [
      "This shows very little correlation between latitude and cloudiness\n"
     ]
    }
   ],
   "source": [
    "print(\"This shows very little correlation between latitude and cloudiness\")"
   ]
  },
  {
   "cell_type": "markdown",
   "metadata": {},
   "source": [
    "####  Northern Hemisphere - Wind Speed (mph) vs. Latitude Linear Regression"
   ]
  },
  {
   "cell_type": "code",
   "execution_count": 97,
   "metadata": {},
   "outputs": [
    {
     "data": {
      "image/png": "[encoded data removed]",
      "text/plain": [
       "<Figure size 432x288 with 1 Axes>"
      ]
     },
     "metadata": {
      "needs_background": "light"
     },
     "output_type": "display_data"
    }
   ],
   "source": [
    "x=NHemi[\"Latitude\"]\n",
    "y=NHemi[\"Wind Speed (MPH)\"]\n",
    "\n",
    "fig11=NHemi.plot.scatter(x=\"Latitude\",y=\"Wind Speed (MPH)\",title=\"Latitude vs. Wind Speed (MPH)(Nothern Hemisphere)(4/24/2022)\")\n",
    "\n",
    "(slope, intercept, rvalue, pvalue, stderr) = linregress(x, y)\n",
    "regress_values = x * slope + intercept\n",
    "line_eq = \"y = \" + str(round(slope,2)) + \"x + \" + str(round(intercept,2))\n",
    "plt.plot(x,regress_values,\"r-\")\n",
    "plt.annotate(line_eq,(0,7.5),fontsize=15,color=\"red\")\n",
    "plt.savefig('output/fig11.png', dpi=300)"
   ]
  },
  {
   "cell_type": "code",
   "execution_count": 98,
   "metadata": {},
   "outputs": [
    {
     "name": "stdout",
     "output_type": "stream",
     "text": [
      "This shows very little correlation between latitude and Wind Speed (MPH)\n"
     ]
    }
   ],
   "source": [
    "print(\"This shows very little correlation between latitude and Wind Speed (MPH)\")"
   ]
  },
  {
   "cell_type": "markdown",
   "metadata": {},
   "source": [
    "####  Southern Hemisphere - Wind Speed (mph) vs. Latitude Linear Regression"
   ]
  },
  {
   "cell_type": "code",
   "execution_count": 99,
   "metadata": {},
   "outputs": [
    {
     "data": {
      "image/png": "[encoded data removed]",
      "text/plain": [
       "<Figure size 432x288 with 1 Axes>"
      ]
     },
     "metadata": {
      "needs_background": "light"
     },
     "output_type": "display_data"
    }
   ],
   "source": [
    "x=SHemi[\"Latitude\"]\n",
    "y=SHemi[\"Wind Speed (MPH)\"]\n",
    "\n",
    "fig12=SHemi.plot.scatter(x=\"Latitude\",y=\"Wind Speed (MPH)\",title=\"Latitude vs. Wind Speed (MPH)(Southern Hemisphere)(4/24/2022)\")\n",
    "\n",
    "(slope, intercept, rvalue, pvalue, stderr) = linregress(x, y)\n",
    "regress_values = x * slope + intercept\n",
    "line_eq = \"y = \" + str(round(slope,2)) + \"x + \" + str(round(intercept,2))\n",
    "plt.plot(x,regress_values,\"r-\")\n",
    "plt.annotate(line_eq,(0,7.5),fontsize=15,color=\"red\")\n",
    "plt.savefig('output/fig12.png', dpi=300)"
   ]
  },
  {
   "cell_type": "code",
   "execution_count": 100,
   "metadata": {},
   "outputs": [
    {
     "name": "stdout",
     "output_type": "stream",
     "text": [
      "This shows very little correlation between latitude and Wind Speed (MPH)\n"
     ]
    }
   ],
   "source": [
    "print(\"This shows very little correlation between latitude and Wind Speed (MPH)\")"
   ]
  },
  {
   "cell_type": "code",
   "execution_count": null,
   "metadata": {},
   "outputs": [],
   "source": []
  },
  {
   "cell_type": "code",
   "execution_count": null,
   "metadata": {},
   "outputs": [],
   "source": []
  },
  {
   "cell_type": "code",
   "execution_count": null,
   "metadata": {},
   "outputs": [],
   "source": []
  }
 ],
 "metadata": {
  "anaconda-cloud": {},
  "kernel_info": {
   "name": "python3"
  },
  "kernelspec": {
   "display_name": "Python 3 (ipykernel)",
   "language": "python",
   "name": "python3"
  },
  "language_info": {
   "codemirror_mode": {
    "name": "ipython",
    "version": 3
   },
   "file_extension": ".py",
   "mimetype": "text/x-python",
   "name": "python",
   "nbconvert_exporter": "python",
   "pygments_lexer": "ipython3",
   "version": "3.9.7"
  },
  "latex_envs": {
   "LaTeX_envs_menu_present": true,
   "autoclose": false,
   "autocomplete": true,
   "bibliofile": "biblio.bib",
   "cite_by": "apalike",
   "current_citInitial": 1,
   "eqLabelWithNumbers": true,
   "eqNumInitial": 1,
   "hotkeys": {
    "equation": "Ctrl-E",
    "itemize": "Ctrl-I"
   },
   "labels_anchors": false,
   "latex_user_defs": false,
   "report_style_numbering": false,
   "user_envs_cfg": false
  },
  "nteract": {
   "version": "0.12.3"
  }
 },
 "nbformat": 4,
 "nbformat_minor": 2
}
